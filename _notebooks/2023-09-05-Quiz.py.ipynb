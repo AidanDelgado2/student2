{
 "cells": [
  {
   "cell_type": "code",
   "execution_count": null,
   "metadata": {},
   "outputs": [],
   "source": [
    "---\n",
    "toc: true\n",
    "comments: false\n",
    "layout: post\n",
    "title: Quiz!\n",
    "description: How much do you know about me?\n",
    "type: hacks\n",
    "courses: { csp: {week: 1} }\n",
    "---"
   ]
  },
  {
   "cell_type": "code",
   "execution_count": 4,
   "metadata": {},
   "outputs": [
    {
     "name": "stdout",
     "output_type": "stream",
     "text": [
      "Whats up!, aidandelgado running /bin/python\n",
      "You will be asked 3 questions.\n",
      "Question: Are you ready to take my quiz?\n",
      "Question: How old am I?\n",
      "16 is correct!\n",
      "Question: What grade am I in?\n",
      "Junior is correct!\n",
      "Question: How many sisters do I have?\n",
      "3 is correct!\n",
      "aidandelgado you scored 100.0%\n"
     ]
    }
   ],
   "source": [
    "import getpass, sys\n",
    "def question_with_response(prompt):\n",
    "    print(\"Question: \" + prompt)\n",
    "    msg = input()\n",
    "    return msg\n",
    "questions = 3\n",
    "correct = 0\n",
    "print('Whats up!, ' + getpass.getuser() + \" running \" + sys.executable)\n",
    "print(\"You will be asked \" + str(questions) + \" questions.\")\n",
    "question_with_response(\"Are you ready to take my quiz?\")\n",
    "rsp = question_with_response(\"How old am I?\")\n",
    "if rsp == \"16\":\n",
    "    print(rsp + \" is correct!\")\n",
    "    correct += 1\n",
    "else:\n",
    "    print(rsp + \" is incorrect!\")\n",
    "rsp = question_with_response(\"What grade am I in?\")\n",
    "if rsp == \"Junior\":\n",
    "    print(rsp + \" is correct!\")\n",
    "    correct += 1\n",
    "else:\n",
    "    print(rsp + \" is incorrect!\")\n",
    "rsp = question_with_response(\"How many sisters do I have?\")\n",
    "if rsp == \"3\":\n",
    "    print(rsp + \" is correct!\")\n",
    "    correct += 1\n",
    "else:\n",
    "    print(rsp + \" is incorrect!\")\n",
    "print(getpass.getuser() + \" you scored \" + str(correct/questions*(100)) +\"%\")"
   ]
  }
 ],
 "metadata": {
  "kernelspec": {
   "display_name": "Python 3",
   "language": "python",
   "name": "python3"
  },
  "language_info": {
   "codemirror_mode": {
    "name": "ipython",
    "version": 3
   },
   "file_extension": ".py",
   "mimetype": "text/x-python",
   "name": "python",
   "nbconvert_exporter": "python",
   "pygments_lexer": "ipython3",
   "version": "3.10.12"
  },
  "orig_nbformat": 4
 },
 "nbformat": 4,
 "nbformat_minor": 2
}
