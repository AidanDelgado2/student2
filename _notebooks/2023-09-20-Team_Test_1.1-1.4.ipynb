{
 "cells": [
  {
   "cell_type": "code",
   "execution_count": null,
   "metadata": {},
   "outputs": [],
   "source": [
    "---\n",
    "toc: true\n",
    "comments: false\n",
    "layout: post\n",
    "title: Team Test 1.1-1.4\n",
    "description: This is the contents of our team test 1.1-1.4 video recording\n",
    "type: hacks\n",
    "courses: { csp: {week: 5} }\n",
    "---"
   ]
  },
  {
   "cell_type": "markdown",
   "metadata": {},
   "source": [
    "## Benefits of Working in a Team:\n",
    "Having a team can make the creation of a project faster and more efficient. With each task given to a group member, the project can be done with more detail due to each section being worked on specifically by one person while also being done at a faster rate. Collaboration is also important because groups can easily be off-task and not do the work they're supposed to do if there is a lack of collaboration. But when done right, a collaborating group can facilitate their project and manage each member's task, leading to an easier and more successful project.\n",
    "Diversities of our team: One of the diversities our team has is in its software; half of our scrum team work on Macs while the other half works on Windows computers. This can help reduce the chances of everyone having the same problem on one platform."
   ]
  },
  {
   "cell_type": "markdown",
   "metadata": {},
   "source": [
    "## Program Types"
   ]
  },
  {
   "cell_type": "markdown",
   "metadata": {},
   "source": [
    "- ### Programs with Output\n",
    "Programs with output give a one-way display to the user (ex: displaying text)"
   ]
  },
  {
   "cell_type": "code",
   "execution_count": 13,
   "metadata": {},
   "outputs": [
    {
     "name": "stdout",
     "output_type": "stream",
     "text": [
      "Hello, World!\n"
     ]
    }
   ],
   "source": [
    "print(\"Hello World!\")"
   ]
  },
  {
   "cell_type": "markdown",
   "metadata": {},
   "source": [
    "- ### Program with Input and Output\n",
    "Programs with both input and ouput take into account a user's response and answers back with an ouput (ex: python quizzes/surveys)"
   ]
  },
  {
   "cell_type": "code",
   "execution_count": 22,
   "metadata": {},
   "outputs": [
    {
     "name": "stdout",
     "output_type": "stream",
     "text": [
      "Hello, Miguel!\n"
     ]
    }
   ],
   "source": [
    "# Program with Input and Output\n",
    "# Input\n",
    "name = input(\"Enter your name: \")\n",
    "\n",
    "# Processing\n",
    "greeting = \"Hello, \" + name + \"!\"\n",
    "\n",
    "# Output\n",
    "print(greeting)"
   ]
  },
  {
   "cell_type": "markdown",
   "metadata": {},
   "source": [
    "- ### Program with a List\n",
    "A program that uses a list data structure to store a group of elements."
   ]
  },
  {
   "cell_type": "code",
   "execution_count": 25,
   "metadata": {},
   "outputs": [
    {
     "name": "stdout",
     "output_type": "stream",
     "text": [
      "Added 'Apples' to the shopping list.\n",
      "Added 'Bananas' to the shopping list.\n",
      "Removed 'Apples' from the shopping list.\n"
     ]
    }
   ],
   "source": [
    "# Program with a List\n",
    "# Create a list of something\n",
    "shopping_list = []\n",
    "\n",
    "# Function to add something to the list\n",
    "def add_to_list(item):\n",
    "    shopping_list.append(item)\n",
    "    print(f\"Added '{item}' to the shopping list.\")\n",
    "\n",
    "# Function to remove something from the list\n",
    "def remove_from_list(item):\n",
    "    if item in shopping_list:\n",
    "        shopping_list.remove(item)\n",
    "        print(f\"Removed '{item}' from the shopping list.\")\n",
    "\n",
    "# Example usage:\n",
    "add_to_list(\"Apples\")\n",
    "add_to_list(\"Bananas\")\n",
    "remove_from_list(\"Apples\")"
   ]
  },
  {
   "cell_type": "markdown",
   "metadata": {},
   "source": [
    "- ### Program with a Dictionary\n",
    "A dictionary allows you to store and retrieve key-value pairs."
   ]
  },
  {
   "cell_type": "code",
   "execution_count": 27,
   "metadata": {},
   "outputs": [
    {
     "name": "stdout",
     "output_type": "stream",
     "text": [
      "Alice's score: 95\n",
      "Bob's score: 89\n"
     ]
    }
   ],
   "source": [
    "# Create a dictionary\n",
    "student_scores = {\n",
    "    \"Alice\": 95,\n",
    "    \"Bob\": 89,\n",
    "}\n",
    "\n",
    "# Retrieve the values that are assigned\n",
    "alice_score = student_scores[\"Alice\"]\n",
    "bob_score = student_scores[\"Bob\"]\n",
    "\n",
    "# Print the scores\n",
    "print(\"Alice's score:\", alice_score)\n",
    "print(\"Bob's score:\", bob_score)"
   ]
  },
  {
   "cell_type": "markdown",
   "metadata": {},
   "source": [
    "- ### Program with an Iteration\n",
    "A \"program with iteration\" is a computer program that uses loops to repeatedly execute a block of code or iterate over a sequence of data, such as a list, until a certain condition is met. Iteration is a fundamental programming concept that allows you to perform repetitive tasks efficiently."
   ]
  },
  {
   "cell_type": "code",
   "execution_count": 29,
   "metadata": {},
   "outputs": [
    {
     "name": "stdout",
     "output_type": "stream",
     "text": [
      "The sum of numbers is: 16\n"
     ]
    }
   ],
   "source": [
    "# Program with Iteration\n",
    "# Calculate the sum of numbers in a list using a for loop\n",
    "\n",
    "# Define a list of numbers\n",
    "numbers = [2, 2, 3, 4, 5]\n",
    "\n",
    "# Initialize a variable to store the sum\n",
    "sum_of_numbers = 0\n",
    "\n",
    "# Iterate over the list and calculate the sum\n",
    "for number in numbers:\n",
    "    sum_of_numbers += number\n",
    "\n",
    "# Print the sum\n",
    "print(\"The sum of numbers is:\", sum_of_numbers)\n"
   ]
  },
  {
   "cell_type": "markdown",
   "metadata": {},
   "source": [
    "- ### Program with a Function to perform mathematical and/or a statistical calculations\n",
    "This program can make calculations using an input of two numbers."
   ]
  },
  {
   "cell_type": "code",
   "execution_count": 31,
   "metadata": {},
   "outputs": [
    {
     "name": "stdout",
     "output_type": "stream",
     "text": [
      "Select operation:\n",
      "1. Add\n",
      "2. Subtract\n",
      "3. Multiply\n",
      "4. Divide\n"
     ]
    },
    {
     "name": "stdout",
     "output_type": "stream",
     "text": [
      "Result: 2.0\n"
     ]
    }
   ],
   "source": [
    "## Program with a Function for Mathematical Calculations\n",
    "# Simple calculator\n",
    "\n",
    "# Adding\n",
    "def add(x, y):\n",
    "    return x + y\n",
    "\n",
    "# Subtracting\n",
    "def subtract(x, y):\n",
    "    return x - y\n",
    "\n",
    "# Multiplication\n",
    "def multiply(x, y):\n",
    "    return x * y\n",
    "\n",
    "# Division\n",
    "def divide(x, y):\n",
    "    if y == 0:\n",
    "        return \"Can't divide by zero\"\n",
    "    return x / y\n",
    "\n",
    "# Display operations\n",
    "print(\"Select operation:\")\n",
    "print(\"1. Add\")\n",
    "print(\"2. Subtract\")\n",
    "print(\"3. Multiply\")\n",
    "print(\"4. Divide\")\n",
    "\n",
    "# Choose whether to add, subtract, multiply, divide\n",
    "choice = input(\"Enter choice (1/2/3/4): \")\n",
    "\n",
    "# Choose your numbers\n",
    "num1 = float(input(\"Enter first number: \"))\n",
    "num2 = float(input(\"Enter second number: \"))\n",
    "\n",
    "# Perform the selected operation\n",
    "if choice == '1':\n",
    "    result = add(num1, num2)\n",
    "    print(\"Result:\", result)\n",
    "elif choice == '2':\n",
    "    result = subtract(num1, num2)\n",
    "    print(\"Result:\", result)\n",
    "elif choice == '3':\n",
    "    result = multiply(num1, num2)\n",
    "    print(\"Result:\", result)\n",
    "elif choice == '4':\n",
    "    result = divide(num1, num2)\n",
    "    print(\"Result:\", result)\n",
    "else:\n",
    "    print(\"Invalid input\")\n"
   ]
  },
  {
   "cell_type": "markdown",
   "metadata": {},
   "source": [
    "- ### Program with a selection/condition\n",
    "In computer science, a \"program with a selection/condition\" refers to a computer program or a section of code that includes decision-making logic based on certain conditions or criteria. These conditions are typically expressed using conditional statements (e.g., if statements) that allow the program to take different actions or follow different paths of execution based on the evaluation of these conditions."
   ]
  },
  {
   "cell_type": "code",
   "execution_count": 38,
   "metadata": {},
   "outputs": [
    {
     "name": "stdout",
     "output_type": "stream",
     "text": [
      "You are eligible to join NHS.\n"
     ]
    }
   ],
   "source": [
    "# Python program with a selection/condition\n",
    "GPA = float(input(\"Enter your GPA: \"))\n",
    "\n",
    "if GPA >= 3.8:\n",
    "    print(\"You are eligible to join NHS.\")\n",
    "else:\n",
    "    print(\"You are not eligible to join NHS.\")"
   ]
  },
  {
   "cell_type": "markdown",
   "metadata": {},
   "source": [
    "- ### Finish with a Program with a Purpose\n",
    "The term \"Program with Purpose\" in computer science refers to writing software or computer programs with a clear and well-defined goal or objective in mind. It emphasizes the importance of designing and implementing software with a specific intent or purpose, rather than creating code arbitrarily or without a clear understanding of its intended use."
   ]
  },
  {
   "cell_type": "code",
   "execution_count": 1,
   "metadata": {},
   "outputs": [
    {
     "name": "stdout",
     "output_type": "stream",
     "text": [
      "The factorial of 2 is 2\n"
     ]
    }
   ],
   "source": [
    "# Function to calculate the factorial of a number\n",
    "def factorial(n):\n",
    "    if n == 0:\n",
    "        return 1\n",
    "    else:\n",
    "        result = 1\n",
    "        for i in range(1, n + 1):\n",
    "            result *= i\n",
    "        return result\n",
    "\n",
    "# Input: Prompt the user to enter a number\n",
    "num = int(input(\"Enter a number: \"))\n",
    "\n",
    "# Calculate the factorial\n",
    "result = factorial(num)\n",
    "\n",
    "# Output: Display the factorial of the number\n",
    "print(f\"The factorial of {num} is {result}\")\n"
   ]
  }
 ],
 "metadata": {
  "kernelspec": {
   "display_name": "Python 3",
   "language": "python",
   "name": "python3"
  },
  "language_info": {
   "codemirror_mode": {
    "name": "ipython",
    "version": 3
   },
   "file_extension": ".py",
   "mimetype": "text/x-python",
   "name": "python",
   "nbconvert_exporter": "python",
   "pygments_lexer": "ipython3",
   "version": "3.10.12"
  },
  "orig_nbformat": 4
 },
 "nbformat": 4,
 "nbformat_minor": 2
}
