{
 "cells": [
  {
   "cell_type": "code",
   "execution_count": null,
   "metadata": {},
   "outputs": [],
   "source": [
    "---\n",
    "toc: true\n",
    "comments: false\n",
    "layout: post\n",
    "title: Variables\n",
    "description: Variables Team Lesson\n",
    "type: hacks\n",
    "courses: { csp: {week: 7} }\n",
    "---"
   ]
  },
  {
   "cell_type": "markdown",
   "metadata": {},
   "source": [
    "## Popcorn Hack"
   ]
  },
  {
   "cell_type": "code",
   "execution_count": 3,
   "metadata": {},
   "outputs": [
    {
     "name": "stdout",
     "output_type": "stream",
     "text": [
      "burrito\n"
     ]
    }
   ],
   "source": [
    "favoritefood = \"burrito\"\n",
    "print(favoritefood)"
   ]
  },
  {
   "cell_type": "markdown",
   "metadata": {},
   "source": [
    "## Data Types Hack\n",
    "-Integer: Mathematical Numbers\n",
    "-Booiean: yes/no or true/false statements\n",
    "-String (text): text based info"
   ]
  },
  {
   "cell_type": "code",
   "execution_count": 6,
   "metadata": {},
   "outputs": [
    {
     "name": "stdout",
     "output_type": "stream",
     "text": [
      "9 is an integer\n",
      "True is a boolean\n",
      "Aidan is a string\n"
     ]
    }
   ],
   "source": [
    "integer = 9\n",
    "happy = True\n",
    "name = \"Aidan\"\n",
    "print(str(integer) + \" is an integer\")\n",
    "print(str(happy) + \" is a boolean\")\n",
    "print(name + \" is a string\")\n"
   ]
  },
  {
   "cell_type": "markdown",
   "metadata": {},
   "source": [
    "## Changing Values Hack"
   ]
  },
  {
   "cell_type": "code",
   "execution_count": 7,
   "metadata": {},
   "outputs": [
    {
     "name": "stdout",
     "output_type": "stream",
     "text": [
      "9\n"
     ]
    }
   ],
   "source": [
    "print(str(integer))"
   ]
  },
  {
   "cell_type": "code",
   "execution_count": 9,
   "metadata": {},
   "outputs": [
    {
     "name": "stdout",
     "output_type": "stream",
     "text": [
      "10\n",
      "10\n",
      "20\n"
     ]
    }
   ],
   "source": [
    "num1=20\n",
    "num2=15\n",
    "num3=10\n",
    "num2=num3\n",
    "num3=num1\n",
    "num1=num2\n",
    "print(str(num1))\n",
    "print(str(num2))\n",
    "print(str(num3))"
   ]
  },
  {
   "cell_type": "markdown",
   "metadata": {},
   "source": [
    "## Strings and Lists Hacks\n",
    "- String: ordered sequence of characters\n",
    "- Lists: an ordered sequence of elements"
   ]
  },
  {
   "cell_type": "code",
   "execution_count": null,
   "metadata": {},
   "outputs": [],
   "source": [
    "classList = [\"Apes\", \"HMI\", \"Calc AB\", \"CSP\"]\n",
    "print(classList[1])"
   ]
  },
  {
   "cell_type": "markdown",
   "metadata": {},
   "source": [
    "### Homework Hacks"
   ]
  },
  {
   "cell_type": "markdown",
   "metadata": {},
   "source": [
    "## HW Hack 1\n",
    "- Integer - Variable 1\n",
    "- List - Variable 3\n",
    "- Boolean - Variable 4\n",
    "- String - Variable 2"
   ]
  },
  {
   "cell_type": "markdown",
   "metadata": {},
   "source": [
    "## Homework hack 2"
   ]
  },
  {
   "cell_type": "code",
   "execution_count": 1,
   "metadata": {},
   "outputs": [
    {
     "name": "stdout",
     "output_type": "stream",
     "text": [
      "3\n",
      "['Apes', 'HMI', 'Calc AB', 'CSP']\n",
      "True\n",
      "Chicken\n"
     ]
    }
   ],
   "source": [
    "# Integer\n",
    "numSiblings = 3\n",
    "print(numSiblings)\n",
    "\n",
    "# List\n",
    "classList = [\"Apes\", \"HMI\", \"Calc AB\", \"CSP\"]\n",
    "print(classList)\n",
    "\n",
    "# Booiean\n",
    "iluv2code= True\n",
    "print(iluv2code)\n",
    "\n",
    "# String\n",
    "myfavfood = \"Chicken\"\n",
    "print(myfavfood)"
   ]
  }
 ],
 "metadata": {
  "kernelspec": {
   "display_name": "Python 3",
   "language": "python",
   "name": "python3"
  },
  "language_info": {
   "codemirror_mode": {
    "name": "ipython",
    "version": 3
   },
   "file_extension": ".py",
   "mimetype": "text/x-python",
   "name": "python",
   "nbconvert_exporter": "python",
   "pygments_lexer": "ipython3",
   "version": "3.10.12"
  },
  "orig_nbformat": 4
 },
 "nbformat": 4,
 "nbformat_minor": 2
}
