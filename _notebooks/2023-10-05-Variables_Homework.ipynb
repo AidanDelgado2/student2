{
 "cells": [
  {
   "cell_type": "markdown",
   "metadata": {},
   "source": [
    "---\n",
    "toc: true\n",
    "comments: false\n",
    "layout: post\n",
    "title: 10/4 Team Lesson Homework\n",
    "description: Team Lesson Homework\n",
    "type: hacks\n",
    "courses: { csp: {week: 7} }\n",
    "---"
   ]
  },
  {
   "cell_type": "markdown",
   "metadata": {},
   "source": [
    "## HW Hack 1\n",
    "- Integer - Variable 1\n",
    "- List - Variable 3\n",
    "- Boolean - Variable 4\n",
    "- String - Variable 2"
   ]
  },
  {
   "cell_type": "markdown",
   "metadata": {},
   "source": [
    "## Hack 2"
   ]
  },
  {
   "cell_type": "code",
   "execution_count": 2,
   "metadata": {},
   "outputs": [
    {
     "name": "stdout",
     "output_type": "stream",
     "text": [
      "3\n",
      "['Apes', 'HMI', 'Calc AB', 'CSP']\n",
      "True\n",
      "Chicken\n"
     ]
    }
   ],
   "source": [
    "# Integer\n",
    "numSiblings = 3\n",
    "print(numSiblings)\n",
    "\n",
    "# List\n",
    "classList = [\"Apes\", \"HMI\", \"Calc AB\", \"CSP\"]\n",
    "print(classList)\n",
    "\n",
    "# Booiean\n",
    "iluv2code= True\n",
    "print(iluv2code)\n",
    "\n",
    "# String\n",
    "myfavfood = \"Chicken\"\n",
    "print(myfavfood)"
   ]
  }
 ],
 "metadata": {
  "kernelspec": {
   "display_name": "Python 3",
   "language": "python",
   "name": "python3"
  },
  "language_info": {
   "codemirror_mode": {
    "name": "ipython",
    "version": 3
   },
   "file_extension": ".py",
   "mimetype": "text/x-python",
   "name": "python",
   "nbconvert_exporter": "python",
   "pygments_lexer": "ipython3",
   "version": "3.10.12"
  }
 },
 "nbformat": 4,
 "nbformat_minor": 2
}
