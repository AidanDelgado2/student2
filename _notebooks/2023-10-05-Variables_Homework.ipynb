{
 "cells": [
  {
   "cell_type": "markdown",
   "metadata": {},
   "source": [
    "---\n",
    "toc: true\n",
    "comments: false\n",
    "layout: post\n",
    "title: 10/4 Team Lesson Homework\n",
    "description: Team Lesson Homework\n",
    "type: hacks\n",
    "courses: { csp: {week: 7} }\n",
    "---"
   ]
  },
  {
   "cell_type": "markdown",
   "metadata": {},
   "source": [
    "## Hack 1\n",
    "- Variable 1= integer\n",
    "- Variable 2= list\n",
    "- Variable 3= string\n",
    "- Variable 4= Booiean"
   ]
  },
  {
   "cell_type": "code",
   "execution_count": 4,
   "metadata": {},
   "outputs": [
    {
     "name": "stdout",
     "output_type": "stream",
     "text": [
      "20\n",
      "tesla\n",
      "('Kaiyu', 'Patrick', 'Miguel', 'Aidan')\n",
      "True\n"
     ]
    }
   ],
   "source": [
    "# Variable 1 = Integer\n",
    "\n",
    "numStudents = 20\n",
    "print(numStudents)\n",
    "\n",
    "# Variable 2 = List\n",
    "\n",
    "car = \"tesla\"\n",
    "print(car)\n",
    "\n",
    "# Variable 3 = String\n",
    "\n",
    "mygroup = \"Kaiyu\", \"Patrick\", \"Miguel\", \"Aidan\"\n",
    "print(mygroup)\n",
    "\n",
    "# Variable 4 = Booiean\n",
    "\n",
    "catsareBetter = True\n",
    "print(catsareBetter)\n"
   ]
  },
  {
   "cell_type": "markdown",
   "metadata": {},
   "source": [
    "## Hack 2"
   ]
  },
  {
   "cell_type": "code",
   "execution_count": 6,
   "metadata": {},
   "outputs": [
    {
     "name": "stdout",
     "output_type": "stream",
     "text": [
      "3\n",
      "['Apes', 'HMI', 'Calc AB', 'CSP']\n",
      "True\n",
      "Aidan\n"
     ]
    }
   ],
   "source": [
    "# Integer\n",
    "numSiblings = 3\n",
    "print(numSiblings)\n",
    "\n",
    "# List\n",
    "classList = [\"Apes\", \"HMI\", \"Calc AB\", \"CSP\"]\n",
    "print(classList)\n",
    "\n",
    "# Booiean\n",
    "iluv2code= True\n",
    "print(iluv2code)\n",
    "\n",
    "# String\n",
    "myName = \"Aidan\"\n",
    "print(myName)"
   ]
  }
 ],
 "metadata": {
  "kernelspec": {
   "display_name": "Python 3",
   "language": "python",
   "name": "python3"
  },
  "language_info": {
   "codemirror_mode": {
    "name": "ipython",
    "version": 3
   },
   "file_extension": ".py",
   "mimetype": "text/x-python",
   "name": "python",
   "nbconvert_exporter": "python",
   "pygments_lexer": "ipython3",
   "version": "3.10.12"
  }
 },
 "nbformat": 4,
 "nbformat_minor": 2
}
