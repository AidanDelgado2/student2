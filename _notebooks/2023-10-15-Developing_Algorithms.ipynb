{
 "cells": [
  {
   "cell_type": "markdown",
   "metadata": {},
   "source": [
    "# Developing Algorithms"
   ]
  },
  {
   "cell_type": "markdown",
   "metadata": {},
   "source": [
    "### What is an Algorithm\n",
    "An algorithm is a set of instructions for solving a specific problem or performing a particular task."
   ]
  },
  {
   "cell_type": "markdown",
   "metadata": {},
   "source": [
    "### Purpose of developing Algorithms\n",
    "- \n",
    "- \n",
    "- "
   ]
  },
  {
   "cell_type": "code",
   "execution_count": 8,
   "metadata": {},
   "outputs": [
    {
     "name": "stdout",
     "output_type": "stream",
     "text": [
      "Random number: 3\n"
     ]
    }
   ],
   "source": [
    "# Example of algorithm\n",
    "\n",
    "import random\n",
    "# Define min and max values\n",
    "min_num = 1\n",
    "max_num = 10\n",
    "# Generate Random Number\n",
    "random_number = random.randint(min_num, max_num)\n",
    "# Output\n",
    "print(f\"Random number: {random_number}\")"
   ]
  },
  {
   "cell_type": "markdown",
   "metadata": {},
   "source": [
    "### Same goal, different Process"
   ]
  },
  {
   "cell_type": "code",
   "execution_count": null,
   "metadata": {},
   "outputs": [],
   "source": [
    "# Function 1: counts sum of numbers from 1 to x by adding each number to total"
   ]
  },
  {
   "cell_type": "code",
   "execution_count": null,
   "metadata": {},
   "outputs": [],
   "source": [
    "# Function 2: counts to sum of numbers from 1 to x by using formula (x(x+1))/2"
   ]
  },
  {
   "cell_type": "markdown",
   "metadata": {},
   "source": [
    "### Algorithms in statistic/mathematical calculation\n",
    "Algorithms in statistical and mathematical calculations refer to systematic step-by-step procedures or methods for solving specific problems, performing computations, or making decisions. These algorithms are designed to ensure in various mathematical and statistical tasks."
   ]
  },
  {
   "cell_type": "code",
   "execution_count": 7,
   "metadata": {},
   "outputs": [
    {
     "name": "stdout",
     "output_type": "stream",
     "text": [
      "Mean: 9.0\n",
      "Median: 9\n",
      "The mode is 9\n"
     ]
    }
   ],
   "source": [
    "# Example in statistic/mathematical calculation\n",
    "\n",
    "# Mean\n",
    "numberlist = [3, 6, 9, 12, 15]\n",
    "mean = sum(numberlist) / len(numberlist)\n",
    "print(\"Mean:\", mean)\n",
    "\n",
    "# Median\n",
    "numberlist = [3, 6, 9, 12, 15]\n",
    "n = len(numberlist)\n",
    "if n % 2 == 0:\n",
    "    median = (numberlist[n // 2 - 1] + numberlist[n // 2]) / 2\n",
    "else:\n",
    "    median = numberlist[n // 2]\n",
    "print(\"Median:\", median)\n",
    "\n",
    "# Mode\n",
    "from collections import Counter\n",
    "\n",
    "def find_mode(numbers):\n",
    "    count = Counter(numbers)\n",
    "    max_count = max(count.values())\n",
    "    modes = [num for num, freq in count.items() if freq == max_count]\n",
    "    \n",
    "    return modes\n",
    "\n",
    "numbers = [3, 9, 9, 12, 15]\n",
    "modes = find_mode(numbers)\n",
    "\n",
    "if len(modes) == 1:\n",
    "    print(f\"The mode is {modes[0]}\")\n",
    "else:\n",
    "    print(\"There are multiple modes:\", modes)\n"
   ]
  },
  {
   "cell_type": "markdown",
   "metadata": {},
   "source": [
    "### Popcorn Hack #1\n",
    "Create your own algorithm using numbers to calculate a value."
   ]
  },
  {
   "cell_type": "code",
   "execution_count": null,
   "metadata": {},
   "outputs": [],
   "source": [
    "# Insert your popcorn hack here:"
   ]
  },
  {
   "cell_type": "markdown",
   "metadata": {},
   "source": [
    "### Using algorithms to organize lists\n",
    "- Selection sort\n",
    "- insertion sort"
   ]
  },
  {
   "cell_type": "code",
   "execution_count": null,
   "metadata": {},
   "outputs": [],
   "source": [
    "# Selection sort example"
   ]
  },
  {
   "cell_type": "markdown",
   "metadata": {},
   "source": [
    "# Explanation"
   ]
  },
  {
   "cell_type": "markdown",
   "metadata": {},
   "source": [
    "### Popcorn Hack #2\n",
    "Make your own list and code an algorithm using one of the two methods to sort them from least to greatest."
   ]
  },
  {
   "cell_type": "code",
   "execution_count": null,
   "metadata": {},
   "outputs": [],
   "source": [
    "# Insert your popcorn hack here:"
   ]
  },
  {
   "cell_type": "markdown",
   "metadata": {},
   "source": [
    "## Homework Hacks"
   ]
  },
  {
   "cell_type": "markdown",
   "metadata": {},
   "source": [
    "### Homework Hack 1\n",
    "Create your own algorithm using a loop until you reach a desired value. Be creative!"
   ]
  },
  {
   "cell_type": "code",
   "execution_count": 4,
   "metadata": {},
   "outputs": [
    {
     "name": "stdout",
     "output_type": "stream",
     "text": [
      "Count of odd numbers from 1 to 10: 5\n"
     ]
    }
   ],
   "source": [
    "# Example algorithm of loop\n",
    "\n",
    "# Initialize a counter to keep track of the count of odd numbers\n",
    "count = 0\n",
    "# Loop through numbers from 1 to 10\n",
    "for number in range(1, 11):  \n",
    " # Check if the number is odd\n",
    " if number % 2 != 0: \n",
    "        # Increment the count if the number is odd\n",
    "        count += 1  \n",
    "\n",
    "print(\"Count of odd numbers from 1 to 10:\", count)\n"
   ]
  },
  {
   "cell_type": "markdown",
   "metadata": {},
   "source": [
    "### Homework Hack 2\n",
    "Write two different algorithms of your own choosing that reach the same end output. Refer to the examples in the lesson above for support."
   ]
  }
 ],
 "metadata": {
  "kernelspec": {
   "display_name": "Python 3",
   "language": "python",
   "name": "python3"
  },
  "language_info": {
   "codemirror_mode": {
    "name": "ipython",
    "version": 3
   },
   "file_extension": ".py",
   "mimetype": "text/x-python",
   "name": "python",
   "nbconvert_exporter": "python",
   "pygments_lexer": "ipython3",
   "version": "3.10.12"
  }
 },
 "nbformat": 4,
 "nbformat_minor": 2
}
