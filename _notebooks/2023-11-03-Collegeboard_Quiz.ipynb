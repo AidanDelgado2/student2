{
 "cells": [
  {
   "cell_type": "markdown",
   "metadata": {},
   "source": [
    "---\n",
    "toc: true\n",
    "comments: true\n",
    "layout: post\n",
    "title: Collegeboard Quiz\n",
    "description: How I will study for the quiz, and reflection on my answers.\n",
    "type: hacks\n",
    "courses: { csp: {week: 11} }\n",
    "---"
   ]
  },
  {
   "cell_type": "markdown",
   "metadata": {},
   "source": [
    "## Studying plan\n",
    "Before my quiz, I will review the team teaches in order to see what types of inputs there are that will be on the quiz. This way, I can know what to look for in the questions and answers and choose the best answer possible. In particular, I will review libraries and simulations, as those were the team teaches in which I struggled the most on the homework hacks. This way, I will give myself the best backbone possible in my compsci knowledge to get a good score."
   ]
  },
  {
   "cell_type": "markdown",
   "metadata": {},
   "source": [
    "## During the quiz\n",
    "During the quiz, I found myself looking up questions that mainly were related to variables and algorithms, along with the questions with visual pseudo code that was the answer. This was challenging for me since I had to think extra and evaluate all the outputs that each option provided, which was difficult."
   ]
  },
  {
   "cell_type": "markdown",
   "metadata": {},
   "source": [
    "## After the quiz\n",
    "- overall: 55/66\n",
    "- Question 5: Correct answer is C, since it uses the conditional \"if\" statement correctly. I chose D, since I did not know that you could have two if statements without an else statement.\n",
    "- Question 7: My initial answer, B, did not give the correct final value of CURRENT. The correct answer is C, and it gives the correct value of CURRENT, which was 4\n",
    "- Question 11: The correct answer is D, since it properly establishes the probabilities for each color being spun. My answer did not put each color in the correct slot and I got them mixed up, which did not accurately portray the correct probabilities.\n",
    "- Question 15: The correct answer is C because an IP address is essential for connecting devices to the internet.\n",
    "- Question 21: The correct answer is B since it uses the proper order for the procedure to move the robot to the correct spot.\n",
    "- Question 26: The correct answer is A since it orders the commands correctly, as the turning right function must come before the move forward one because the robot must turn right before moving forward if possible.\n",
    "- Question 31: The correct answer is C because although both programs look vastly different, they both perform the correct function to get the robot to the correct square.\n",
    "- Question 44: The correct answer is B because 7 (in binary) is 0111, and 10 (in binary) is 1010. When you add these two numbers, you get 10001. However, a 4-bit representation cannot hold 10001 because it's greater than 15. So, there is an overflow error in this case. Statement II is true.\n",
    "- Question 57: The correct answer is B because it links the two letters at the start of \"Harp\" with the last three letters at the end of \"Puppy\" which creates the word \"Happy\".\n",
    "- Question 65: The correct answers are B and D because in B, the value of Y will never be negative since the count starts at 0. In D, if both X and Y are negative, the condition will not be met since they cannot be below 0.\n",
    "- Question 66: The correct answers are C and D. Option C returns 20 but 20 is not the least value of the list, 10 is. Option D returns 30, which is not the least value of the list, which is also 10."
   ]
  },
  {
   "cell_type": "markdown",
   "metadata": {},
   "source": [
    "## Hardest topics for me after the quiz:\n",
    "- 1.4, 3.1, 3.6, 3.12, 3.15, 4.1"
   ]
  }
 ],
 "metadata": {
  "language_info": {
   "name": "python"
  }
 },
 "nbformat": 4,
 "nbformat_minor": 2
}
