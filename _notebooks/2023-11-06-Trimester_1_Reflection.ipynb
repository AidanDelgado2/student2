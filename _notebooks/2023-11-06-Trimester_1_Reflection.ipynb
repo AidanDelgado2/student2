{
 "cells": [
  {
   "cell_type": "markdown",
   "metadata": {},
   "source": [
    "---\n",
    "toc: true\n",
    "comments: true\n",
    "layout: post\n",
    "title: Trimester 1 Reflection\n",
    "description: Refelction of my highs and lows of CSP.\n",
    "type: hacks\n",
    "courses: { csp: {week: 12} }\n",
    "---"
   ]
  },
  {
   "cell_type": "markdown",
   "metadata": {},
   "source": [
    "## What went well:\n",
    "- I deployed my website\n",
    "- my team's passion project idea\n",
    "- doing well on our team teach about developing algorithms\n",
    "- collaborating with others that were better at coding than me so I could learn from them"
   ]
  },
  {
   "cell_type": "markdown",
   "metadata": {},
   "source": [
    "## What was hard:\n",
    "- deploying our flask portfolio\n",
    "- creating an api to link to the frontend\n",
    "- coding the frontend page correctly to fetch our data from the backend repository which took the most time out of all my tasks\n",
    "- deploying my website correctly and changing my theme\n",
    "- working with the AWS console"
   ]
  },
  {
   "cell_type": "markdown",
   "metadata": {},
   "source": [
    "## Key commits on my student repository:\n",
    "1. Initial commit: this commit was the first commit that I made to my website, which set up my config.yml. This also included the first error I experienced, which was an error in my config.yml. This experience allowed me to read terminal output errors concerning my makefile. I had to find the small line of code that was not allowing my entire website to work, and felt the satisfaction of everything coming back together smoothly for the first time. For the rest of the trimester, I chased after this satisfaction in my assignments like my passion project.\n",
    "2. Newsite: this commit is what mainly aided me in deploying my website. When I first was trying to deploy my site through github, the formatting for my site was not working and the buttons let to error 404 pages. So, I asked around my friends who had deployed their sites and they helped me work through it. My friend, Jayden Chen, was particularly helpful in changing my theme and adding in the csp button that displayed my repository timebox."
   ]
  },
  {
   "cell_type": "markdown",
   "metadata": {},
   "source": [
    "## Key commits on my passionproject:\n",
    "1. Aidan Jokes.py edit: this helped my team with the API creation, adding the correct format for the data to be displayed on the FIFAbackend/api/jokes/ file. This allowed the frontend repository to fetch the data correctly and I proved this by debugging my code and stepping through each individual line, scanning for any new errors that may have occurred. After I found no errors, I moved on to the html file where the backend data was being fetched and displayed on our frontend repository.\n",
    "2. Aidan open a pack working edition: this commit edited the frontend repository that allowed it to display the data correctly. After constantly checking my work with chatgpt, I was almost ready to quit working on the project altogether. However, one of my mother's friends was able to help me as he is a computer scientist. He helped me understand that the problem came from the way my javascript code was displaying the data. Since the data was arranged in an array, I had to define the number of the array that I wanted each part to display."
   ]
  },
  {
   "cell_type": "markdown",
   "metadata": {},
   "source": [
    "## Team Teach reflections:\n",
    "- variables: This lesson taught me how to create python variables, which helped me in my passionproject since I had to create multiple variables to define in my API.\n",
    "- algorithms: This lesson taught me how to use pseudo code, which is code in a human written format rather than being a digital format.\n",
    "- boolean IF: taught me how to use true or false functions, which was very frequent in the collegeboard quiz.\n",
    "- iteration: This lesson taught me how to continuously make a program repeat until reaching its correct goal, which is what I used to create my API and making it go through each player (which were organized in arrays and dictionaries) to display correct data for the frontend.\n",
    "- developing algorithms: This lesson taught me how to simplify my code, which allowed me to easily change around small things that were not working and troubleshoot/debug my code easily.\n",
    "- lists and searches: This lesson taught me how to organize data which proved to be very useful in organizing the data of my backend repository into a readable form for my frontend repository.\n",
    "- developing procedures: This lesson taught me how to make my data organization more efficient which I applied in the creation of my data in my API.\n",
    "- libraries: This lesson helped me learn how to import different libraries, which consist of different pre-written codes that perform certain procedures. The biggest library that I used in my API was the \"import random\" function."
   ]
  },
  {
   "cell_type": "markdown",
   "metadata": {},
   "source": [
    "## Reflection on myself as a student in this class:\n",
    "This class and environment, although quite distracting, did teach me how to fix errors on my own and depend on my own knowledge and problem solving skills. I worked for 8 hours trying to connect my frontend and backend, until the very moment that my team did not qualify for night at the museum. Despite all of my hard work, we still did not qualify. This was by far the most frustrating part of this class I had to experience. However, in this dark academic moment of mine, I realized that the only way to go was up. The best way for me to move forward as a student was to continue working, and finally, after working with my mother's friend who is a computer scientist himself. Although we did not qualify, I believe it is true that you learn more from your failures than from your victories. This class grew my mentality as a student and helped me become a better learner through the face of adversity."
   ]
  }
 ],
 "metadata": {
  "language_info": {
   "name": "python"
  }
 },
 "nbformat": 4,
 "nbformat_minor": 2
}
