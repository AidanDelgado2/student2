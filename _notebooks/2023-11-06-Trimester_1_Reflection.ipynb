{
 "cells": [
  {
   "cell_type": "markdown",
   "metadata": {},
   "source": [
    "---\n",
    "toc: true\n",
    "comments: true\n",
    "layout: post\n",
    "title: Trimester 1 Reflection\n",
    "description: Refelction of my highs and lows of CSP.\n",
    "type: hacks\n",
    "courses: { csp: {week: 12} }\n",
    "---"
   ]
  },
  {
   "cell_type": "markdown",
   "metadata": {},
   "source": [
    "## What went well:\n",
    "- I deployed my website\n",
    "- my team's passion project idea\n",
    "- doing well on our team teach about developing algorithms\n",
    "- collaborating with others that were better at coding than me so I could learn from them"
   ]
  },
  {
   "cell_type": "markdown",
   "metadata": {},
   "source": [
    "## What was hard:\n",
    "- deploying our flask portfolio\n",
    "- creating an api to link to the frontend\n",
    "- coding the frontend page correctly to fetch our data from the backend repository which took the most time out of all my tasks\n",
    "- deploying my website correctly and changing my theme\n",
    "- working with the AWS console"
   ]
  },
  {
   "cell_type": "markdown",
   "metadata": {},
   "source": [
    "## Key commits on my repository:\n",
    "1. Initial commit: this commit was the first commit that I made to my website, which set up my config.yml. This also included the first error I experienced, which was an error in my config.yml. This experience allowed me to read terminal output errors concerning my makefile. I had to find the small line of code that was not allowing my entire website to work, and felt the satisfaction of everything coming back together smoothly for the first time. For the rest of the trimester, I chased after this satisfaction in my assignments like my passion project.\n",
    "2. Newsite: this commit is what mainly aided me in deploying my website. When I first was trying to deploy my site through github, the formatting for my site was not working and the buttons let to error 404 pages. So, I asked around my friends who had deployed their sites and they helped me work through it. My friend, Jayden Chen, was particularly helpful in changing my theme and adding in the csp button that displayed my repository timebox."
   ]
  },
  {
   "cell_type": "markdown",
   "metadata": {},
   "source": [
    "## Key commits on my passionproject:\n",
    "1. Aidan Jokes.py edit: this helped my team with the API creation, adding the correct format for the data to be displayed on the FIFAbackend/api/jokes/ file. This allowed the frontend repository to fetch the data correctly and I proved this by debugging my code and stepping through each individual line, scanning for any new errors that may have occurred. After I found no errors, I moved on to the html file where the backend data was being fetched and displayed on our frontend repository.\n",
    "2. Aidan open a pack working edition: this commit edited the frontend repository that allowed it to display the data correctly. After constantly checking my work with chatgpt, I was almost ready to quit working on the project altogether. However, one of my mother's friends was able to help me as he is a computer scientist. He helped me understand that the problem came from the way my javascript code was displaying the data. Since the data was arranged in an array, I had to define the number of the array that I wanted each part to display."
   ]
  }
 ],
 "metadata": {
  "language_info": {
   "name": "python"
  }
 },
 "nbformat": 4,
 "nbformat_minor": 2
}
