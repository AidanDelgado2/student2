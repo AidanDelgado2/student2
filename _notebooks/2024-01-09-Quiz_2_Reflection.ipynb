{
 "cells": [
  {
   "cell_type": "markdown",
   "metadata": {},
   "source": [
    "---\n",
    "toc: true\n",
    "comments: true\n",
    "layout: post\n",
    "title: Quiz 2 reflection\n",
    "courses: { compsci: {week: 17} }\n",
    "type: hacks\n",
    "---"
   ]
  },
  {
   "cell_type": "markdown",
   "metadata": {},
   "source": [
    "## Score: 59/67"
   ]
  },
  {
   "cell_type": "markdown",
   "metadata": {},
   "source": [
    "## Question reflections\n",
    "- Question 5. Correct answer: C, making A false would still give the OR function an output of true, while you need both C and D to make the AND function output true to satisfy the function.\n",
    "\n",
    "- Question 11. Correct answer: A, 11111111 = 255 in binary, 11110000 = 240 in binary, which makes the RGB number (255, 255, 240) which matches with the color ivory.\n",
    "\n",
    "- Question 23. Correct answer: D, The flowchart sets available to true whenever weekday is true and miles is less than 20, and sets available to false otherwise. This code statement provides the same functionality.\n",
    "\n",
    "- Question 24. Correct answer: B, The program repeats the function 10 times and 2 is added to value each time making it count to 20\n",
    "\n",
    "- Question 61. Correct answer: B and D, B is correct as well because providing accessibility features may allow some groups to access technology and content that they previously could not access.\n",
    "\n",
    "- Question 64. Correct answer: B and D, D is correct as well because y is initially negative, the loop condition count ≥ y is initially true, so the body of the loop is never executed and 0 is returned.\n",
    "\n",
    "- Question 66. Correct answer: A and C, C is correct as well because line 9 should be removed, as currentnum should be integrated outside of the IF statement.\n",
    "\n",
    "- Question 67. Correct answer: A and B, A explanation: count is increased to 1 the first time \"birch\" is encountered in the list. However, count is reset to 0 when the code segment moves to the next list element. The last time \"birch\" is encountered in the list, count is again increased to 1, causing the procedure to return 1 instead of the intended result 2. B explanation: count is increased to 1 the first time \"maple\" is encountered in the list. However, count is reset to 0 when the code segment moves to the next list element. This causes the procedure to return 0 instead of the intended result 1."
   ]
  }
 ],
 "metadata": {
  "language_info": {
   "name": "python"
  }
 },
 "nbformat": 4,
 "nbformat_minor": 2
}
